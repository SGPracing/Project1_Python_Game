{
 "cells": [
  {
   "cell_type": "code",
   "execution_count": 1,
   "id": "77d59066",
   "metadata": {
    "ExecuteTime": {
     "end_time": "2021-12-01T22:12:04.382225Z",
     "start_time": "2021-12-01T22:12:04.379128Z"
    },
    "code_folding": [
     0
    ]
   },
   "outputs": [],
   "source": [
    "# import numpy as np\n",
    "# import pandas as pd\n",
    "\n",
    "# p1_name = input('Enter the name of player 1: ')\n",
    "# p2_name = input('Enter the name of player 2: ')\n",
    "\n",
    "# P1_dice = 5\n",
    "# P2_dice = 5\n",
    "\n",
    "# die_name = ['1st Die', '2nd Die', '3rd Die', '4th Die', '5th Die', '6th Die', '7h Die', '8th Die', '9th Die']\n",
    "# colname = ['']\n",
    "\n",
    "# while P1_dice != 0 and P2_dice != 0:\n",
    "#     input(f\"{p1_name}, it's your turn, press 'Enter' to throw your dice\")\n",
    "#     player1 = list(np.random.randint(1,7,(P1_dice)))\n",
    "#     player1_dict = dict(zip(die_name,player1))\n",
    "#     player1_df = pd.DataFrame.from_dict(player1_dict, orient='index')\n",
    "#     player1_df = player1_df.rename(columns = {item:colname[item] for item in range(len(colname))})\n",
    "#     print (f'\\n{p1_name}, your play is: {player1_df}')\n",
    "#     print('\\n')\n",
    "\n",
    "#     for i in player1:\n",
    "#         if i == 1:\n",
    "#             P1_dice = P1_dice - 1\n",
    "#         elif i == 6:\n",
    "#             P1_dice = P1_dice - 1\n",
    "#             P2_dice += + 1\n",
    "#     print (f'{p1_name}, you have {P1_dice} dice left.')\n",
    "#     print (f'{p2_name}, you have {P2_dice} dice left.')\n",
    "#     print('\\n')\n",
    "\n",
    "#     if P1_dice == 0:\n",
    "#         print(f'{p1_name} IS THE WINNER!')\n",
    "#     elif P2_dice == 0:\n",
    "#         print(f'{p2_name} IS THE WINNER!') \n",
    "    \n",
    "#     input(f\"{p2_name}, it's your turn, press 'Enter' to throw your dice\")\n",
    "#     player2 = list(np.random.randint(1,7,(P2_dice)))\n",
    "#     player2_dict = dict(zip(die_name,player2))\n",
    "#     print (f'{p2_name}, your play is: ')\n",
    "#     player2_df = pd.DataFrame.from_dict(player2_dict, orient='index')\n",
    "#     player2_df = player2_df.rename(columns = {item:colname[item] for item in range(len(colname))})\n",
    "#     print(player2_df)\n",
    "#     print('\\n')\n",
    "\n",
    "#     for i in player2:\n",
    "#         if i == 1:\n",
    "#             P2_dice = P2_dice - 1\n",
    "#         elif i == 6:\n",
    "#             P2_dice = P2_dice - 1\n",
    "#             P1_dice += + 1\n",
    "#     print (f'{p1_name}, you have {P1_dice} dice left.')\n",
    "#     print (f'{p2_name}, you have {P2_dice} dice left.')\n",
    "#     print('\\n')\n",
    "    \n",
    "#     if P1_dice == 0:\n",
    "#         print(f'{p1_name} IS THE WINNER!')\n",
    "#     elif P2_dice == 0:\n",
    "#         print(f'{p2_name} IS THE WINNER!') \n",
    "    \n",
    "    \n"
   ]
  },
  {
   "cell_type": "markdown",
   "id": "c362ef83",
   "metadata": {},
   "source": [
    "# DICE GAME: MAFIA\n",
    "\n",
    "Number of players: 2\n",
    "\n",
    "* Each player starts with 5 dice.\n",
    "* For every throw, any 6s go to the other player.\n",
    "* Any 1s are removed from play.\n",
    "* The game continues in this manner until one player has no remaining dice.\n",
    "* The player to get rid off all dice wins."
   ]
  },
  {
   "cell_type": "code",
   "execution_count": 2,
   "id": "457894c8",
   "metadata": {
    "ExecuteTime": {
     "end_time": "2021-12-01T22:12:04.714985Z",
     "start_time": "2021-12-01T22:12:04.384984Z"
    }
   },
   "outputs": [],
   "source": [
    "import numpy as np\n",
    "import pandas as pd"
   ]
  },
  {
   "cell_type": "markdown",
   "id": "7ee62093",
   "metadata": {},
   "source": [
    "# Function game\n",
    "\n",
    "* Number of dice is predefined (5)\n",
    "* Players input:\n",
    "    1. type their names when asked;\n",
    "    2. throw the dice when asked, pressing 'Enter'.\n",
    "* Output of the play and updated number of dice each player has.\n",
    "* Once one player runs out of dice, the other is declared the winner"
   ]
  },
  {
   "cell_type": "code",
   "execution_count": 3,
   "id": "9db89830",
   "metadata": {
    "ExecuteTime": {
     "end_time": "2021-12-01T22:12:04.725797Z",
     "start_time": "2021-12-01T22:12:04.717015Z"
    },
    "code_folding": []
   },
   "outputs": [],
   "source": [
    "def game():     \n",
    "    p1_name = input('Enter the name of Player 1: ')\n",
    "    p2_name = input('Enter the name of Player 2: ')\n",
    "    print('\\n')\n",
    "    \n",
    "    P1_dice = 2\n",
    "    P2_dice = 2\n",
    "    \n",
    "    die_name = ['1st Die', '2nd Die', '3rd Die', '4th Die', '5th Die', '6th Die', '7h Die', '8th Die', '9th Die']\n",
    "    colname = ['']\n",
    "\n",
    "    while P1_dice != 0 and P2_dice != 0:\n",
    "        \n",
    "        input(f\"{p1_name}, it's your turn, press 'Enter' to throw your dice\")\n",
    "        player1 = list(np.random.randint(1,7,(P1_dice)))\n",
    "        player1_dict = dict(zip(die_name,player1))\n",
    "        player1_df = pd.DataFrame.from_dict(player1_dict, orient='index')\n",
    "        player1_df = player1_df.rename(columns = {item:colname[item] for item in range(len(colname))})\n",
    "        print (f'\\n{p1_name}, your play is: {player1_df}\\n')\n",
    "\n",
    "        if P2_dice != 0:\n",
    "            for i in player1:\n",
    "                if i == 1:\n",
    "                    P1_dice = P1_dice - 1\n",
    "                elif i == 6:\n",
    "                    P1_dice = P1_dice - 1\n",
    "                    P2_dice += + 1\n",
    "            print (f'{p1_name}, you have {P1_dice} dice(die) left.')\n",
    "            print (f'{p2_name}, you have {P2_dice} dice(die) left.\\n')\n",
    "\n",
    "        if P1_dice == 0:\n",
    "            print(f'{p1_name} IS THE WINNER!')\n",
    "        elif P2_dice == 0:\n",
    "            print(f'{p2_name} IS THE WINNER!')\n",
    "            \n",
    "        input(f\"{p2_name}, it's your turn, press 'Enter' to throw your dice\")\n",
    "        player2 = list(np.random.randint(1,7,(P2_dice)))\n",
    "        player2_dict = dict(zip(die_name,player2))\n",
    "        player2_df = pd.DataFrame.from_dict(player2_dict, orient='index')\n",
    "        player2_df = player2_df.rename(columns = {item:colname[item] for item in range(len(colname))})\n",
    "        print (f'\\n{p2_name}, your play is: {player2_df}\\n')\n",
    "        \n",
    "        if P1_dice != 0:\n",
    "            for i in player2:\n",
    "                if i == 1:\n",
    "                    P2_dice = P2_dice - 1\n",
    "                elif i == 6:\n",
    "                    P2_dice = P2_dice - 1\n",
    "                    P1_dice += + 1\n",
    "            print (f'{p1_name}, you have {P1_dice} dice(die) left.')\n",
    "            print (f'{p2_name}, you have {P2_dice} dice(die) left.\\n')\n",
    "\n",
    "        if P1_dice == 0:\n",
    "            print(f'{p1_name} IS THE WINNER!')\n",
    "        elif P2_dice == 0:\n",
    "            print(f'{p2_name} IS THE WINNER!')\n",
    "    print('\\nThank you for playing MAFIA!')\n",
    "    "
   ]
  },
  {
   "cell_type": "markdown",
   "id": "01104137",
   "metadata": {
    "heading_collapsed": true
   },
   "source": [
    "# Function rules\n",
    "\n",
    "* User's choice to have the rules displayed or not before the game begins;\n",
    "* 'Y', 'y', 'N' or 'n' are acceptable inputs;\n",
    "* Any other input advises the player and loops the function."
   ]
  },
  {
   "cell_type": "code",
   "execution_count": 4,
   "id": "e9351499",
   "metadata": {
    "ExecuteTime": {
     "end_time": "2021-12-01T22:12:04.731150Z",
     "start_time": "2021-12-01T22:12:04.727295Z"
    },
    "hidden": true
   },
   "outputs": [],
   "source": [
    "def rules():\n",
    "    rule = input('Do you want to check the rules (y or n)?: ')\n",
    "    print('\\n')\n",
    "    if rule == 'y' or rule == 'Y':\n",
    "        print(\"\"\"Each player starts with 5 dice.\n",
    "For every throw, any 6s go to the other player;\n",
    "any 1s are removed from play.\n",
    "The game continues in this manner until one player has no remaining dice.\n",
    "The player to get rid off all dice wins\"\"\")\n",
    "        print('\\n')\n",
    "        game()\n",
    "    elif rule == 'n' or rule == 'N':\n",
    "        game()\n",
    "    else:\n",
    "        print('Please, choose y or n.')\n",
    "        rules()\n",
    "\n"
   ]
  },
  {
   "cell_type": "markdown",
   "id": "74755bef",
   "metadata": {
    "heading_collapsed": true
   },
   "source": [
    "# Function play_again\n",
    "\n",
    "* User choose to play again or not;\n",
    "* 'Y', 'y', 'N' or 'n' are acceptable inputs;\n",
    "* Any other input advises the player and loops the function."
   ]
  },
  {
   "cell_type": "code",
   "execution_count": 5,
   "id": "bbdb6db0",
   "metadata": {
    "ExecuteTime": {
     "end_time": "2021-12-01T22:12:04.735820Z",
     "start_time": "2021-12-01T22:12:04.732858Z"
    },
    "hidden": true
   },
   "outputs": [],
   "source": [
    "def play_again():\n",
    "    again = input('\\nDo you want to play again (y or n)? ')\n",
    "    if again == 'y' or again == 'Y':\n",
    "        game()\n",
    "    elif again == 'n' or again == 'N':\n",
    "        print('\\nNo problem, see you!')\n",
    "    else:\n",
    "        print('Please, choose y or n.')\n",
    "        play_again()\n",
    "        "
   ]
  },
  {
   "cell_type": "markdown",
   "id": "4d695fc4",
   "metadata": {},
   "source": [
    "# Function mafia_game\n",
    "\n",
    "* Display game title;\n",
    "* Respectively, calls the fucntions: rules, game, play_again"
   ]
  },
  {
   "cell_type": "code",
   "execution_count": 6,
   "id": "76d3bf02",
   "metadata": {
    "ExecuteTime": {
     "end_time": "2021-12-01T22:12:04.741301Z",
     "start_time": "2021-12-01T22:12:04.738311Z"
    }
   },
   "outputs": [],
   "source": [
    "def mafia_game():\n",
    "    print('                                       =======================')\n",
    "    print('                                       || DICE GAME : MAFIA ||')\n",
    "    print('                                       =======================')\n",
    "    print('\\n')\n",
    "    rules()\n",
    "    print('\\n')\n",
    "    game()\n",
    "    play_again()\n",
    "    "
   ]
  },
  {
   "cell_type": "code",
   "execution_count": 7,
   "id": "ad3f9de7",
   "metadata": {
    "ExecuteTime": {
     "end_time": "2021-12-01T22:13:04.339978Z",
     "start_time": "2021-12-01T22:12:04.745501Z"
    }
   },
   "outputs": [
    {
     "name": "stdout",
     "output_type": "stream",
     "text": [
      "                                       =======================\n",
      "                                       || DICE GAME : MAFIA ||\n",
      "                                       =======================\n",
      "\n",
      "\n",
      "Do you want to check the rules (y or n)?: n\n",
      "\n",
      "\n",
      "Enter the name of Player 1: p1\n",
      "Enter the name of Player 2: p2\n",
      "\n",
      "\n",
      "p1, it's your turn, press 'Enter' to throw your dice\n",
      "\n",
      "p1, your play is:           \n",
      "1st Die  3\n",
      "2nd Die  3\n",
      "\n",
      "p1, you have 2 dice(die) left.\n",
      "p2, you have 2 dice(die) left.\n",
      "\n",
      "p2, it's your turn, press 'Enter' to throw your dice\n",
      "\n",
      "p2, your play is:           \n",
      "1st Die  1\n",
      "2nd Die  1\n",
      "\n",
      "p1, you have 2 dice(die) left.\n",
      "p2, you have 0 dice(die) left.\n",
      "\n",
      "p2 IS THE WINNER!\n",
      "\n",
      "Thank you for playing MAFIA!\n",
      "\n",
      "\n",
      "Enter the name of Player 1: p1\n",
      "Enter the name of Player 2: p2\n",
      "\n",
      "\n",
      "p1, it's your turn, press 'Enter' to throw your dice\n",
      "\n",
      "p1, your play is:           \n",
      "1st Die  6\n",
      "2nd Die  1\n",
      "\n",
      "p1, you have 0 dice(die) left.\n",
      "p2, you have 3 dice(die) left.\n",
      "\n",
      "p1 IS THE WINNER!\n",
      "p2, it's your turn, press 'Enter' to throw your dice\n",
      "\n",
      "p2, your play is:           \n",
      "1st Die  2\n",
      "2nd Die  4\n",
      "3rd Die  3\n",
      "\n",
      "p1 IS THE WINNER!\n",
      "\n",
      "Thank you for playing MAFIA!\n",
      "Do you want to play again (y or n)? n\n",
      "\n",
      "No problem, see you!\n"
     ]
    }
   ],
   "source": [
    "mafia_game()"
   ]
  }
 ],
 "metadata": {
  "kernelspec": {
   "display_name": "Python 3",
   "language": "python",
   "name": "python3"
  },
  "language_info": {
   "codemirror_mode": {
    "name": "ipython",
    "version": 3
   },
   "file_extension": ".py",
   "mimetype": "text/x-python",
   "name": "python",
   "nbconvert_exporter": "python",
   "pygments_lexer": "ipython3",
   "version": "3.8.8"
  },
  "toc": {
   "base_numbering": 1,
   "nav_menu": {},
   "number_sections": true,
   "sideBar": true,
   "skip_h1_title": false,
   "title_cell": "Table of Contents",
   "title_sidebar": "Contents",
   "toc_cell": false,
   "toc_position": {},
   "toc_section_display": true,
   "toc_window_display": true
  },
  "varInspector": {
   "cols": {
    "lenName": 16,
    "lenType": 16,
    "lenVar": 40
   },
   "kernels_config": {
    "python": {
     "delete_cmd_postfix": "",
     "delete_cmd_prefix": "del ",
     "library": "var_list.py",
     "varRefreshCmd": "print(var_dic_list())"
    },
    "r": {
     "delete_cmd_postfix": ") ",
     "delete_cmd_prefix": "rm(",
     "library": "var_list.r",
     "varRefreshCmd": "cat(var_dic_list()) "
    }
   },
   "types_to_exclude": [
    "module",
    "function",
    "builtin_function_or_method",
    "instance",
    "_Feature"
   ],
   "window_display": false
  }
 },
 "nbformat": 4,
 "nbformat_minor": 5
}
