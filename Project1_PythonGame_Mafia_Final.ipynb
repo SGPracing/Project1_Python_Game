{
 "cells": [
  {
   "cell_type": "code",
   "execution_count": 1,
   "id": "77d59066",
   "metadata": {
    "ExecuteTime": {
     "end_time": "2021-12-03T01:27:02.977087Z",
     "start_time": "2021-12-03T01:27:02.970460Z"
    },
    "code_folding": [
     0
    ]
   },
   "outputs": [],
   "source": [
    "# import numpy as np\n",
    "# import pandas as pd\n",
    "\n",
    "# p1_name = input('Enter the name of player 1: ')\n",
    "# p2_name = input('Enter the name of player 2: ')\n",
    "\n",
    "# P1_dice = 5\n",
    "# P2_dice = 5\n",
    "\n",
    "# die_name = ['1st Die', '2nd Die', '3rd Die', '4th Die', '5th Die', '6th Die', '7h Die', '8th Die', '9th Die']\n",
    "# colname = ['']\n",
    "\n",
    "# while P1_dice != 0 and P2_dice != 0:\n",
    "#     input(f\"{p1_name}, it's your turn, press 'Enter' to throw your dice\")\n",
    "#     player1 = list(np.random.randint(1,7,(P1_dice)))\n",
    "#     player1_dict = dict(zip(die_name,player1))\n",
    "#     player1_df = pd.DataFrame.from_dict(player1_dict, orient='index')\n",
    "#     player1_df = player1_df.rename(columns = {item:colname[item] for item in range(len(colname))})\n",
    "#     print (f'\\n{p1_name}, your play is: {player1_df}')\n",
    "#     print('\\n')\n",
    "\n",
    "#     for i in player1:\n",
    "#         if i == 1:\n",
    "#             P1_dice = P1_dice - 1\n",
    "#         elif i == 6:\n",
    "#             P1_dice = P1_dice - 1\n",
    "#             P2_dice += + 1\n",
    "#     print (f'{p1_name}, you have {P1_dice} dice left.')\n",
    "#     print (f'{p2_name}, you have {P2_dice} dice left.')\n",
    "#     print('\\n')\n",
    "\n",
    "#     if P1_dice == 0:\n",
    "#         print(f'{p1_name} IS THE WINNER!')\n",
    "#     elif P2_dice == 0:\n",
    "#         print(f'{p2_name} IS THE WINNER!') \n",
    "    \n",
    "#     input(f\"{p2_name}, it's your turn, press 'Enter' to throw your dice\")\n",
    "#     player2 = list(np.random.randint(1,7,(P2_dice)))\n",
    "#     player2_dict = dict(zip(die_name,player2))\n",
    "#     print (f'{p2_name}, your play is: ')\n",
    "#     player2_df = pd.DataFrame.from_dict(player2_dict, orient='index')\n",
    "#     player2_df = player2_df.rename(columns = {item:colname[item] for item in range(len(colname))})\n",
    "#     print(player2_df)\n",
    "#     print('\\n')\n",
    "\n",
    "#     for i in player2:\n",
    "#         if i == 1:\n",
    "#             P2_dice = P2_dice - 1\n",
    "#         elif i == 6:\n",
    "#             P2_dice = P2_dice - 1\n",
    "#             P1_dice += + 1\n",
    "#     print (f'{p1_name}, you have {P1_dice} dice left.')\n",
    "#     print (f'{p2_name}, you have {P2_dice} dice left.')\n",
    "#     print('\\n')\n",
    "    \n",
    "#     if P1_dice == 0:\n",
    "#         print(f'{p1_name} IS THE WINNER!')\n",
    "#     elif P2_dice == 0:\n",
    "#         print(f'{p2_name} IS THE WINNER!') \n",
    "    \n",
    "    \n"
   ]
  },
  {
   "cell_type": "markdown",
   "id": "c362ef83",
   "metadata": {},
   "source": [
    "# DICE GAME: MAFIA\n",
    "\n",
    "Number of players: 2\n",
    "\n",
    "* Each player starts with 5 dice.\n",
    "* For every throw, any 6s go to the other player.\n",
    "* Any 1s are removed from play.\n",
    "* The game continues in this manner until one player has no remaining dice.\n",
    "* The player to get rid off all dice wins."
   ]
  },
  {
   "cell_type": "code",
   "execution_count": 2,
   "id": "457894c8",
   "metadata": {
    "ExecuteTime": {
     "end_time": "2021-12-03T01:27:03.386654Z",
     "start_time": "2021-12-03T01:27:02.982325Z"
    }
   },
   "outputs": [],
   "source": [
    "import numpy as np\n",
    "import pandas as pd"
   ]
  },
  {
   "cell_type": "markdown",
   "id": "7ee62093",
   "metadata": {},
   "source": [
    "# Function game\n",
    "\n",
    "* Number of dice is predefined (5)\n",
    "* Players input:\n",
    "    1. type their names when asked;\n",
    "    2. throw the dice when asked, pressing 'Enter'.\n",
    "* Output of the play and updated number of dice each player has.\n",
    "* Once one player runs out of dice, the other is declared the winner"
   ]
  },
  {
   "cell_type": "code",
   "execution_count": 3,
   "id": "9db89830",
   "metadata": {
    "ExecuteTime": {
     "end_time": "2021-12-03T01:27:03.399396Z",
     "start_time": "2021-12-03T01:27:03.388994Z"
    },
    "code_folding": []
   },
   "outputs": [],
   "source": [
    "def game():     \n",
    "    p1_name = input('Enter the name of Player 1: ')\n",
    "    p2_name = input('Enter the name of Player 2: ')\n",
    "    print('\\n')\n",
    "    \n",
    "    P1_dice = 2\n",
    "    P2_dice = 2\n",
    "    \n",
    "    die_name = ['1st Die', '2nd Die', '3rd Die', '4th Die', '5th Die', '6th Die', '7h Die', '8th Die', '9th Die']\n",
    "    colname = ['']\n",
    "\n",
    "    while P1_dice != 0 and P2_dice != 0:\n",
    "        \n",
    "        input(f\"{p1_name}, it's your turn, press 'Enter' to throw your dice\")\n",
    "        player1 = list(np.random.randint(1,7,(P1_dice)))\n",
    "        player1_dict = dict(zip(die_name,player1))\n",
    "        player1_df = pd.DataFrame.from_dict(player1_dict, orient='index')\n",
    "        player1_df = player1_df.rename(columns = {item:colname[item] for item in range(len(colname))})\n",
    "        print (f'\\n{p1_name}, your play is: {player1_df}\\n')\n",
    "\n",
    "        if P2_dice != 0:\n",
    "            for i in player1:\n",
    "                if i == 1:\n",
    "                    P1_dice = P1_dice - 1\n",
    "                elif i == 6:\n",
    "                    P1_dice = P1_dice - 1\n",
    "                    P2_dice += + 1\n",
    "            print (f'{p1_name}, you have {P1_dice} dice(die) left.')\n",
    "            print (f'{p2_name}, you have {P2_dice} dice(die) left.\\n')\n",
    "\n",
    "        if P1_dice == 0:\n",
    "            print(f'{p1_name} IS THE WINNER!')\n",
    "            break\n",
    "            \n",
    "        input(f\"{p2_name}, it's your turn, press 'Enter' to throw your dice\")\n",
    "        player2 = list(np.random.randint(1,7,(P2_dice)))\n",
    "        player2_dict = dict(zip(die_name,player2))\n",
    "        player2_df = pd.DataFrame.from_dict(player2_dict, orient='index')\n",
    "        player2_df = player2_df.rename(columns = {item:colname[item] for item in range(len(colname))})\n",
    "        print (f'\\n{p2_name}, your play is: {player2_df}\\n')\n",
    "        \n",
    "        if P1_dice != 0:\n",
    "            for i in player2:\n",
    "                if i == 1:\n",
    "                    P2_dice = P2_dice - 1\n",
    "                elif i == 6:\n",
    "                    P2_dice = P2_dice - 1\n",
    "                    P1_dice += + 1\n",
    "            print (f'{p1_name}, you have {P1_dice} dice(die) left.')\n",
    "            print (f'{p2_name}, you have {P2_dice} dice(die) left.\\n')\n",
    "\n",
    "        if P1_dice == 0:\n",
    "            print(f'{p1_name} IS THE WINNER!')\n",
    "        \n",
    "    print('\\nThank you for playing MAFIA!')\n"
   ]
  },
  {
   "cell_type": "markdown",
   "id": "01104137",
   "metadata": {
    "heading_collapsed": true
   },
   "source": [
    "# Function rules\n",
    "\n",
    "* User's choice to have the rules displayed or not before the game begins;\n",
    "* 'Y', 'y', 'N' or 'n' are acceptable inputs;\n",
    "* Any other input advises the player and loops the function."
   ]
  },
  {
   "cell_type": "code",
   "execution_count": 4,
   "id": "e9351499",
   "metadata": {
    "ExecuteTime": {
     "end_time": "2021-12-03T01:27:03.408736Z",
     "start_time": "2021-12-03T01:27:03.404127Z"
    },
    "hidden": true
   },
   "outputs": [],
   "source": [
    "def rules():\n",
    "    rule = input('Do you want to check the rules (y or n)?: ')\n",
    "    print('\\n')\n",
    "    if rule == 'y' or rule == 'Y':\n",
    "        print(\"\"\"Each player starts with 5 dice.\n",
    "For every throw, any 6s go to the other player;\n",
    "any 1s are removed from play.\n",
    "The game continues in this manner until one player has no remaining dice.\n",
    "The player to get rid off all dice wins\"\"\")\n",
    "        print('\\n')\n",
    "        game()\n",
    "    elif rule == 'n' or rule == 'N':\n",
    "        game()\n",
    "    else:\n",
    "        print('Please, choose y or n.')\n",
    "        rules()\n",
    "\n"
   ]
  },
  {
   "cell_type": "markdown",
   "id": "74755bef",
   "metadata": {},
   "source": [
    "# Function play_again\n",
    "\n",
    "* User choose to play again or not;\n",
    "* 'Y', 'y', 'N' or 'n' are acceptable inputs;\n",
    "* Any other input advises the player and loops the function."
   ]
  },
  {
   "cell_type": "code",
   "execution_count": 5,
   "id": "bbdb6db0",
   "metadata": {
    "ExecuteTime": {
     "end_time": "2021-12-03T01:27:03.415371Z",
     "start_time": "2021-12-03T01:27:03.411914Z"
    }
   },
   "outputs": [],
   "source": [
    "def play_again():\n",
    "    again = input('\\nDo you want to play again (y or n)? ')\n",
    "    if again == 'y' or again == 'Y':\n",
    "        game()\n",
    "    elif again == 'n' or again == 'N':\n",
    "        print('\\nNo problem, see you!')\n",
    "    else:\n",
    "        print('Please, choose y or n.')\n",
    "        play_again()\n",
    "        "
   ]
  },
  {
   "cell_type": "markdown",
   "id": "4d695fc4",
   "metadata": {},
   "source": [
    "# Function mafia_game\n",
    "\n",
    "* Display game title;\n",
    "* Respectively, calls the fucntions: rules, game, play_again"
   ]
  },
  {
   "cell_type": "code",
   "execution_count": 6,
   "id": "76d3bf02",
   "metadata": {
    "ExecuteTime": {
     "end_time": "2021-12-03T01:27:03.422682Z",
     "start_time": "2021-12-03T01:27:03.418377Z"
    }
   },
   "outputs": [],
   "source": [
    "def mafia_game():\n",
    "    print('                                       =======================')\n",
    "    print('                                       || DICE GAME : MAFIA ||')\n",
    "    print('                                       =======================')\n",
    "    print('\\n')\n",
    "    rules()\n",
    "    print('\\n')\n",
    "    game()\n",
    "    play_again()\n",
    "    "
   ]
  },
  {
   "cell_type": "code",
   "execution_count": 7,
   "id": "ad3f9de7",
   "metadata": {
    "ExecuteTime": {
     "end_time": "2021-12-03T01:33:16.281729Z",
     "start_time": "2021-12-03T01:27:03.428230Z"
    }
   },
   "outputs": [
    {
     "name": "stdout",
     "output_type": "stream",
     "text": [
      "                                       =======================\n",
      "                                       || DICE GAME : MAFIA ||\n",
      "                                       =======================\n",
      "\n",
      "\n",
      "Do you want to check the rules (y or n)?: n\n",
      "\n",
      "\n",
      "Enter the name of Player 1: p1\n",
      "Enter the name of Player 2: p2\n",
      "\n",
      "\n",
      "p1, it's your turn, press 'Enter' to throw your dice\n",
      "\n",
      "p1, your play is:           \n",
      "1st Die  2\n",
      "2nd Die  4\n",
      "\n",
      "p1, you have 2 dice(die) left.\n",
      "p2, you have 2 dice(die) left.\n",
      "\n",
      "p2, it's your turn, press 'Enter' to throw your dice\n",
      "\n",
      "p2, your play is:           \n",
      "1st Die  3\n",
      "2nd Die  4\n",
      "\n",
      "p1, you have 2 dice(die) left.\n",
      "p2, you have 2 dice(die) left.\n",
      "\n",
      "p1, it's your turn, press 'Enter' to throw your dice\n",
      "\n",
      "p1, your play is:           \n",
      "1st Die  5\n",
      "2nd Die  1\n",
      "\n",
      "p1, you have 1 dice(die) left.\n",
      "p2, you have 2 dice(die) left.\n",
      "\n",
      "p2, it's your turn, press 'Enter' to throw your dice\n",
      "\n",
      "p2, your play is:           \n",
      "1st Die  4\n",
      "2nd Die  1\n",
      "\n",
      "p1, you have 1 dice(die) left.\n",
      "p2, you have 1 dice(die) left.\n",
      "\n",
      "p1, it's your turn, press 'Enter' to throw your dice\n",
      "\n",
      "p1, your play is:           \n",
      "1st Die  2\n",
      "\n",
      "p1, you have 1 dice(die) left.\n",
      "p2, you have 1 dice(die) left.\n",
      "\n",
      "p2, it's your turn, press 'Enter' to throw your dice\n",
      "\n",
      "p2, your play is:           \n",
      "1st Die  6\n",
      "\n",
      "p1, you have 2 dice(die) left.\n",
      "p2, you have 0 dice(die) left.\n",
      "\n",
      "p2 IS THE WINNER!\n",
      "\n",
      "Thank you for playing MAFIA!\n",
      "\n",
      "\n"
     ]
    },
    {
     "ename": "KeyboardInterrupt",
     "evalue": "Interrupted by user",
     "output_type": "error",
     "traceback": [
      "\u001b[0;31m---------------------------------------------------------------------------\u001b[0m",
      "\u001b[0;31mKeyboardInterrupt\u001b[0m                         Traceback (most recent call last)",
      "\u001b[0;32m<ipython-input-7-e66496b50a67>\u001b[0m in \u001b[0;36m<module>\u001b[0;34m\u001b[0m\n\u001b[0;32m----> 1\u001b[0;31m \u001b[0mmafia_game\u001b[0m\u001b[0;34m(\u001b[0m\u001b[0;34m)\u001b[0m\u001b[0;34m\u001b[0m\u001b[0;34m\u001b[0m\u001b[0m\n\u001b[0m",
      "\u001b[0;32m<ipython-input-6-818b3df5f740>\u001b[0m in \u001b[0;36mmafia_game\u001b[0;34m()\u001b[0m\n\u001b[1;32m      6\u001b[0m     \u001b[0mrules\u001b[0m\u001b[0;34m(\u001b[0m\u001b[0;34m)\u001b[0m\u001b[0;34m\u001b[0m\u001b[0;34m\u001b[0m\u001b[0m\n\u001b[1;32m      7\u001b[0m     \u001b[0mprint\u001b[0m\u001b[0;34m(\u001b[0m\u001b[0;34m'\\n'\u001b[0m\u001b[0;34m)\u001b[0m\u001b[0;34m\u001b[0m\u001b[0;34m\u001b[0m\u001b[0m\n\u001b[0;32m----> 8\u001b[0;31m     \u001b[0mgame\u001b[0m\u001b[0;34m(\u001b[0m\u001b[0;34m)\u001b[0m\u001b[0;34m\u001b[0m\u001b[0;34m\u001b[0m\u001b[0m\n\u001b[0m\u001b[1;32m      9\u001b[0m     \u001b[0mplay_again\u001b[0m\u001b[0;34m(\u001b[0m\u001b[0;34m)\u001b[0m\u001b[0;34m\u001b[0m\u001b[0;34m\u001b[0m\u001b[0m\n\u001b[1;32m     10\u001b[0m \u001b[0;34m\u001b[0m\u001b[0m\n",
      "\u001b[0;32m<ipython-input-3-1b06b80335ea>\u001b[0m in \u001b[0;36mgame\u001b[0;34m()\u001b[0m\n\u001b[1;32m      1\u001b[0m \u001b[0;32mdef\u001b[0m \u001b[0mgame\u001b[0m\u001b[0;34m(\u001b[0m\u001b[0;34m)\u001b[0m\u001b[0;34m:\u001b[0m\u001b[0;34m\u001b[0m\u001b[0;34m\u001b[0m\u001b[0m\n\u001b[0;32m----> 2\u001b[0;31m     \u001b[0mp1_name\u001b[0m \u001b[0;34m=\u001b[0m \u001b[0minput\u001b[0m\u001b[0;34m(\u001b[0m\u001b[0;34m'Enter the name of Player 1: '\u001b[0m\u001b[0;34m)\u001b[0m\u001b[0;34m\u001b[0m\u001b[0;34m\u001b[0m\u001b[0m\n\u001b[0m\u001b[1;32m      3\u001b[0m     \u001b[0mp2_name\u001b[0m \u001b[0;34m=\u001b[0m \u001b[0minput\u001b[0m\u001b[0;34m(\u001b[0m\u001b[0;34m'Enter the name of Player 2: '\u001b[0m\u001b[0;34m)\u001b[0m\u001b[0;34m\u001b[0m\u001b[0;34m\u001b[0m\u001b[0m\n\u001b[1;32m      4\u001b[0m     \u001b[0mprint\u001b[0m\u001b[0;34m(\u001b[0m\u001b[0;34m'\\n'\u001b[0m\u001b[0;34m)\u001b[0m\u001b[0;34m\u001b[0m\u001b[0;34m\u001b[0m\u001b[0m\n\u001b[1;32m      5\u001b[0m \u001b[0;34m\u001b[0m\u001b[0m\n",
      "\u001b[0;32m~/opt/anaconda3/lib/python3.8/site-packages/ipykernel/kernelbase.py\u001b[0m in \u001b[0;36mraw_input\u001b[0;34m(self, prompt)\u001b[0m\n\u001b[1;32m    858\u001b[0m                 \u001b[0;34m\"raw_input was called, but this frontend does not support input requests.\"\u001b[0m\u001b[0;34m\u001b[0m\u001b[0;34m\u001b[0m\u001b[0m\n\u001b[1;32m    859\u001b[0m             )\n\u001b[0;32m--> 860\u001b[0;31m         return self._input_request(str(prompt),\n\u001b[0m\u001b[1;32m    861\u001b[0m             \u001b[0mself\u001b[0m\u001b[0;34m.\u001b[0m\u001b[0m_parent_ident\u001b[0m\u001b[0;34m,\u001b[0m\u001b[0;34m\u001b[0m\u001b[0;34m\u001b[0m\u001b[0m\n\u001b[1;32m    862\u001b[0m             \u001b[0mself\u001b[0m\u001b[0;34m.\u001b[0m\u001b[0m_parent_header\u001b[0m\u001b[0;34m,\u001b[0m\u001b[0;34m\u001b[0m\u001b[0;34m\u001b[0m\u001b[0m\n",
      "\u001b[0;32m~/opt/anaconda3/lib/python3.8/site-packages/ipykernel/kernelbase.py\u001b[0m in \u001b[0;36m_input_request\u001b[0;34m(self, prompt, ident, parent, password)\u001b[0m\n\u001b[1;32m    902\u001b[0m             \u001b[0;32mexcept\u001b[0m \u001b[0mKeyboardInterrupt\u001b[0m\u001b[0;34m:\u001b[0m\u001b[0;34m\u001b[0m\u001b[0;34m\u001b[0m\u001b[0m\n\u001b[1;32m    903\u001b[0m                 \u001b[0;31m# re-raise KeyboardInterrupt, to truncate traceback\u001b[0m\u001b[0;34m\u001b[0m\u001b[0;34m\u001b[0m\u001b[0;34m\u001b[0m\u001b[0m\n\u001b[0;32m--> 904\u001b[0;31m                 \u001b[0;32mraise\u001b[0m \u001b[0mKeyboardInterrupt\u001b[0m\u001b[0;34m(\u001b[0m\u001b[0;34m\"Interrupted by user\"\u001b[0m\u001b[0;34m)\u001b[0m \u001b[0;32mfrom\u001b[0m \u001b[0;32mNone\u001b[0m\u001b[0;34m\u001b[0m\u001b[0;34m\u001b[0m\u001b[0m\n\u001b[0m\u001b[1;32m    905\u001b[0m             \u001b[0;32mexcept\u001b[0m \u001b[0mException\u001b[0m \u001b[0;32mas\u001b[0m \u001b[0me\u001b[0m\u001b[0;34m:\u001b[0m\u001b[0;34m\u001b[0m\u001b[0;34m\u001b[0m\u001b[0m\n\u001b[1;32m    906\u001b[0m                 \u001b[0mself\u001b[0m\u001b[0;34m.\u001b[0m\u001b[0mlog\u001b[0m\u001b[0;34m.\u001b[0m\u001b[0mwarning\u001b[0m\u001b[0;34m(\u001b[0m\u001b[0;34m\"Invalid Message:\"\u001b[0m\u001b[0;34m,\u001b[0m \u001b[0mexc_info\u001b[0m\u001b[0;34m=\u001b[0m\u001b[0;32mTrue\u001b[0m\u001b[0;34m)\u001b[0m\u001b[0;34m\u001b[0m\u001b[0;34m\u001b[0m\u001b[0m\n",
      "\u001b[0;31mKeyboardInterrupt\u001b[0m: Interrupted by user"
     ]
    }
   ],
   "source": [
    "mafia_game()"
   ]
  },
  {
   "cell_type": "code",
   "execution_count": null,
   "id": "12e4d1b3",
   "metadata": {},
   "outputs": [],
   "source": []
  }
 ],
 "metadata": {
  "kernelspec": {
   "display_name": "Python 3",
   "language": "python",
   "name": "python3"
  },
  "language_info": {
   "codemirror_mode": {
    "name": "ipython",
    "version": 3
   },
   "file_extension": ".py",
   "mimetype": "text/x-python",
   "name": "python",
   "nbconvert_exporter": "python",
   "pygments_lexer": "ipython3",
   "version": "3.8.8"
  },
  "toc": {
   "base_numbering": 1,
   "nav_menu": {},
   "number_sections": true,
   "sideBar": true,
   "skip_h1_title": false,
   "title_cell": "Table of Contents",
   "title_sidebar": "Contents",
   "toc_cell": false,
   "toc_position": {},
   "toc_section_display": true,
   "toc_window_display": true
  },
  "varInspector": {
   "cols": {
    "lenName": 16,
    "lenType": 16,
    "lenVar": 40
   },
   "kernels_config": {
    "python": {
     "delete_cmd_postfix": "",
     "delete_cmd_prefix": "del ",
     "library": "var_list.py",
     "varRefreshCmd": "print(var_dic_list())"
    },
    "r": {
     "delete_cmd_postfix": ") ",
     "delete_cmd_prefix": "rm(",
     "library": "var_list.r",
     "varRefreshCmd": "cat(var_dic_list()) "
    }
   },
   "types_to_exclude": [
    "module",
    "function",
    "builtin_function_or_method",
    "instance",
    "_Feature"
   ],
   "window_display": false
  }
 },
 "nbformat": 4,
 "nbformat_minor": 5
}
