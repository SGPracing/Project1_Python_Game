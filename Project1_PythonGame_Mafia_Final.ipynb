{
 "cells": [
  {
   "cell_type": "markdown",
   "id": "c362ef83",
   "metadata": {
    "heading_collapsed": true
   },
   "source": [
    "# DICE GAME: MAFIA\n",
    "\n",
    "Number of players: 2\n",
    "\n",
    "* Each player starts with 5 dice.\n",
    "* For every throw, any 6s go to the other player.\n",
    "* Any 1s are removed from play.\n",
    "* The game continues in this manner until one player has no remaining dice.\n",
    "* The player to get rid off all dice wins."
   ]
  },
  {
   "cell_type": "code",
   "execution_count": null,
   "id": "457894c8",
   "metadata": {
    "ExecuteTime": {
     "end_time": "2021-12-03T11:43:15.628488Z",
     "start_time": "2021-12-03T11:43:15.327294Z"
    },
    "hidden": true
   },
   "outputs": [],
   "source": [
    "import numpy as np\n",
    "import pandas as pd"
   ]
  },
  {
   "cell_type": "markdown",
   "id": "603382ca",
   "metadata": {
    "heading_collapsed": true
   },
   "source": [
    "# Function title\n",
    "\n",
    "* Display game title"
   ]
  },
  {
   "cell_type": "code",
   "execution_count": null,
   "id": "2b5176da",
   "metadata": {
    "ExecuteTime": {
     "end_time": "2021-12-03T11:43:15.636590Z",
     "start_time": "2021-12-03T11:43:15.633809Z"
    },
    "hidden": true
   },
   "outputs": [],
   "source": [
    "def title():\n",
    "    print('                                       =======================')\n",
    "    print('                                       || DICE GAME : MAFIA ||')\n",
    "    print('                                       =======================')"
   ]
  },
  {
   "cell_type": "markdown",
   "id": "7ee62093",
   "metadata": {},
   "source": [
    "# Function game\n",
    "\n",
    "* Number of dice is predefined (5)\n",
    "* Players input:\n",
    "    1. type their names when asked;\n",
    "    2. throw the dice when asked, pressing 'Enter'.\n",
    "* Output of the play and updated number of dice each player has\n",
    "* The player that runs out of dice is declared the winner"
   ]
  },
  {
   "cell_type": "code",
   "execution_count": null,
   "id": "9db89830",
   "metadata": {
    "ExecuteTime": {
     "end_time": "2021-12-03T11:43:15.648184Z",
     "start_time": "2021-12-03T11:43:15.638944Z"
    },
    "code_folding": []
   },
   "outputs": [],
   "source": [
    "def game():  \n",
    "   \n",
    "    p1_name = input('Enter the name of Player 1: ')\n",
    "    p2_name = input('Enter the name of Player 2: ')\n",
    "    print('\\n')\n",
    "    \n",
    "    P1_dice = 5\n",
    "    P2_dice = 5\n",
    "    \n",
    "    die_name = ['1st Die', '2nd Die', '3rd Die', '4th Die', '5th Die', '6th Die', '7h Die', '8th Die', '9th Die']\n",
    "    colname = ['']\n",
    "\n",
    "    while P1_dice != 0 and P2_dice != 0:\n",
    "        \n",
    "        input(f\"{p1_name}, it's your turn, press 'Enter' to throw your dice\")\n",
    "        player1 = list(np.random.randint(1,7,(P1_dice)))\n",
    "        player1_dict = dict(zip(die_name,player1))\n",
    "        player1_df = pd.DataFrame.from_dict(player1_dict, orient='index')\n",
    "        player1_df = player1_df.rename(columns = {item:colname[item] for item in range(len(colname))})\n",
    "        print (f'\\n{p1_name}, your play is: {player1_df}\\n')\n",
    "\n",
    "        if P2_dice != 0:\n",
    "            for i in player1:\n",
    "                if i == 1:\n",
    "                    P1_dice = P1_dice - 1\n",
    "                elif i == 6:\n",
    "                    P1_dice = P1_dice - 1\n",
    "                    P2_dice += + 1\n",
    "            print (f'{p1_name}, you have {P1_dice} dice(die) left.')\n",
    "            print (f'{p2_name}, you have {P2_dice} dice(die) left.\\n')\n",
    "\n",
    "        if P1_dice == 0:\n",
    "            print(f'{p1_name} IS THE WINNER!')\n",
    "            break\n",
    "            \n",
    "        input(f\"{p2_name}, it's your turn, press 'Enter' to throw your dice\")\n",
    "        player2 = list(np.random.randint(1,7,(P2_dice)))\n",
    "        player2_dict = dict(zip(die_name,player2))\n",
    "        player2_df = pd.DataFrame.from_dict(player2_dict, orient='index')\n",
    "        player2_df = player2_df.rename(columns = {item:colname[item] for item in range(len(colname))})\n",
    "        print (f'\\n{p2_name}, your play is: {player2_df}\\n')\n",
    "        \n",
    "        if P1_dice != 0:\n",
    "            for i in player2:\n",
    "                if i == 1:\n",
    "                    P2_dice = P2_dice - 1\n",
    "                elif i == 6:\n",
    "                    P2_dice = P2_dice - 1\n",
    "                    P1_dice += + 1\n",
    "            print (f'{p1_name}, you have {P1_dice} dice(die) left.')\n",
    "            print (f'{p2_name}, you have {P2_dice} dice(die) left.\\n')\n",
    "\n",
    "        if P2_dice == 0:\n",
    "            print(f'{p2_name} IS THE WINNER!')\n",
    "        \n",
    "    print('\\nThank you for playing MAFIA!')\n"
   ]
  },
  {
   "cell_type": "markdown",
   "id": "01104137",
   "metadata": {
    "heading_collapsed": true
   },
   "source": [
    "# Function rules\n",
    "\n",
    "* User's choice to have the rules displayed or not before the game begins;\n",
    "* 'Y', 'y', 'N' or 'n' are acceptable inputs;\n",
    "* Any other input advises the player and loops the function."
   ]
  },
  {
   "cell_type": "code",
   "execution_count": null,
   "id": "e9351499",
   "metadata": {
    "ExecuteTime": {
     "end_time": "2021-12-03T11:43:15.653621Z",
     "start_time": "2021-12-03T11:43:15.650185Z"
    },
    "hidden": true
   },
   "outputs": [],
   "source": [
    "def rules():\n",
    "    rule = input('Do you want to check the rules (y or n)?: ')\n",
    "    print('\\n')\n",
    "    if rule == 'y' or rule == 'Y':\n",
    "        print(\"\"\"Each player starts with 5 dice.\n",
    "For every throw, any 6s go to the other player;\n",
    "any 1s are removed from play.\n",
    "The game continues in this manner until one player has no remaining dice.\n",
    "The player to get rid off all dice wins\"\"\")\n",
    "        print('\\n')\n",
    "        game()\n",
    "    elif rule == 'n' or rule == 'N':\n",
    "        game()\n",
    "    else:\n",
    "        print('Please, choose y or n.')\n",
    "        rules()\n",
    "\n"
   ]
  },
  {
   "cell_type": "markdown",
   "id": "74755bef",
   "metadata": {
    "heading_collapsed": true
   },
   "source": [
    "# Function play_again\n",
    "\n",
    "* User choose to play again or not;\n",
    "* 'Y', 'y', 'N' or 'n' are acceptable inputs;\n",
    "* Any other input advises the player and loops the function."
   ]
  },
  {
   "cell_type": "code",
   "execution_count": null,
   "id": "bbdb6db0",
   "metadata": {
    "ExecuteTime": {
     "end_time": "2021-12-03T11:43:15.659043Z",
     "start_time": "2021-12-03T11:43:15.655653Z"
    },
    "hidden": true
   },
   "outputs": [],
   "source": [
    "def play_again():\n",
    "    again = input('\\nDo you want to play again (y or n)? ')\n",
    "    if again == 'y' or again == 'Y':\n",
    "        print('\\n')\n",
    "        mafia_game_pa()\n",
    "    elif again == 'n' or again == 'N':\n",
    "        print('\\nNo problem, see you!')\n",
    "    else:\n",
    "        print('Please, choose y or n.')\n",
    "        play_again()\n",
    "        "
   ]
  },
  {
   "cell_type": "markdown",
   "id": "4d695fc4",
   "metadata": {
    "heading_collapsed": true
   },
   "source": [
    "# Function mafia_game\n",
    "\n",
    "* Display game title;\n",
    "* Respectively, calls the fucntions: rules, game, play_again"
   ]
  },
  {
   "cell_type": "code",
   "execution_count": null,
   "id": "76d3bf02",
   "metadata": {
    "ExecuteTime": {
     "end_time": "2021-12-03T11:43:15.665480Z",
     "start_time": "2021-12-03T11:43:15.663330Z"
    },
    "hidden": true
   },
   "outputs": [],
   "source": [
    "def mafia_game():\n",
    "    title()\n",
    "    print('\\n')\n",
    "    rules()\n",
    "    print('\\n')\n",
    "    game()\n",
    "    print('\\n')\n",
    "    play_again()\n",
    "    "
   ]
  },
  {
   "cell_type": "markdown",
   "id": "a0615947",
   "metadata": {
    "heading_collapsed": true
   },
   "source": [
    "# Function mafia_game_pa\n",
    "\n",
    "* Runs the game if user chooses to play again\n",
    "* Functions title and rules are not called"
   ]
  },
  {
   "cell_type": "code",
   "execution_count": null,
   "id": "e454afe8",
   "metadata": {
    "ExecuteTime": {
     "end_time": "2021-12-03T11:43:15.671966Z",
     "start_time": "2021-12-03T11:43:15.669539Z"
    },
    "hidden": true
   },
   "outputs": [],
   "source": [
    "def mafia_game_pa():\n",
    "    game()\n",
    "    print('\\n')\n",
    "    play_again()"
   ]
  },
  {
   "cell_type": "code",
   "execution_count": null,
   "id": "59366219",
   "metadata": {
    "ExecuteTime": {
     "end_time": "2021-12-03T11:44:09.909502Z",
     "start_time": "2021-12-03T11:43:15.674056Z"
    },
    "hidden": true
   },
   "outputs": [],
   "source": [
    "mafia_game()"
   ]
  }
 ],
 "metadata": {
  "kernelspec": {
   "display_name": "Python 3",
   "language": "python",
   "name": "python3"
  },
  "language_info": {
   "codemirror_mode": {
    "name": "ipython",
    "version": 3
   },
   "file_extension": ".py",
   "mimetype": "text/x-python",
   "name": "python",
   "nbconvert_exporter": "python",
   "pygments_lexer": "ipython3",
   "version": "3.8.8"
  },
  "toc": {
   "base_numbering": 1,
   "nav_menu": {},
   "number_sections": true,
   "sideBar": true,
   "skip_h1_title": false,
   "title_cell": "Table of Contents",
   "title_sidebar": "Contents",
   "toc_cell": false,
   "toc_position": {
    "height": "calc(100% - 180px)",
    "left": "10px",
    "top": "150px",
    "width": "286.4px"
   },
   "toc_section_display": true,
   "toc_window_display": true
  },
  "varInspector": {
   "cols": {
    "lenName": 16,
    "lenType": 16,
    "lenVar": 40
   },
   "kernels_config": {
    "python": {
     "delete_cmd_postfix": "",
     "delete_cmd_prefix": "del ",
     "library": "var_list.py",
     "varRefreshCmd": "print(var_dic_list())"
    },
    "r": {
     "delete_cmd_postfix": ") ",
     "delete_cmd_prefix": "rm(",
     "library": "var_list.r",
     "varRefreshCmd": "cat(var_dic_list()) "
    }
   },
   "types_to_exclude": [
    "module",
    "function",
    "builtin_function_or_method",
    "instance",
    "_Feature"
   ],
   "window_display": false
  }
 },
 "nbformat": 4,
 "nbformat_minor": 5
}
